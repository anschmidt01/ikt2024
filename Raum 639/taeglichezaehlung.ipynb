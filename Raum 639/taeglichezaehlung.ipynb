{
 "cells": [
  {
   "cell_type": "code",
   "execution_count": 1,
   "id": "169b40cf-3955-48a3-a7a0-4537c90effd3",
   "metadata": {},
   "outputs": [
    {
     "name": "stderr",
     "output_type": "stream",
     "text": [
      "C:\\Users\\Toni\\AppData\\Local\\Temp\\ipykernel_14688\\1180513613.py:29: UserWarning: Converting to PeriodArray/Index representation will drop timezone information.\n",
      "  data['YearMonthDay'] = data['Timestamp'].dt.to_period('D')\n"
     ]
    },
    {
     "name": "stdout",
     "output_type": "stream",
     "text": [
      "Plots wurden im Verzeichnis 'taegliche_plots' gespeichert.\n"
     ]
    }
   ],
   "source": [
    "import pandas as pd\n",
    "import matplotlib.pyplot as plt\n",
    "import os\n",
    "\n",
    "# Pfad zur CSV-Datei\n",
    "file_path = 'Raum639.csv'  # Ersetze dies durch den tatsächlichen Pfad zur Datei\n",
    "\n",
    "# CSV-Datei laden\n",
    "data = pd.read_csv(file_path)\n",
    "\n",
    "# Daten bereinigen und Spalten umbenennen\n",
    "data.columns = ['Unnamed1', 'Unnamed2', 'Unknown1', 'StartDate', 'EndDate', 'Timestamp', 'DeviceCount', 'CountLabel', 'DeviceType', 'Room']\n",
    "\n",
    "# 'Timestamp' Spalte in datetime konvertieren\n",
    "data['Timestamp'] = pd.to_datetime(data['Timestamp'], errors='coerce')\n",
    "\n",
    "# Zeilen mit NaN in 'Timestamp' oder 'DeviceCount' Spalten entfernen\n",
    "data = data.dropna(subset=['Timestamp', 'DeviceCount'])\n",
    "\n",
    "# 'DeviceCount' in numerischen Typ konvertieren\n",
    "data['DeviceCount'] = pd.to_numeric(data['DeviceCount'], errors='coerce')\n",
    "\n",
    "# Verzeichnis für die Plots erstellen\n",
    "output_dir = 'taegliche_plots'\n",
    "if not os.path.exists(output_dir):\n",
    "    os.makedirs(output_dir)\n",
    "\n",
    "# Gruppiere die Daten nach Jahr, Monat und Tag\n",
    "data['YearMonthDay'] = data['Timestamp'].dt.to_period('D')\n",
    "\n",
    "# Erstelle für jeden Tag eine separate Visualisierung\n",
    "for period, group in data.groupby('YearMonthDay'):\n",
    "    plt.figure(figsize=(12, 6))\n",
    "    plt.plot(group['Timestamp'], group['DeviceCount'], marker='o', linestyle='-', color='b')\n",
    "    plt.title(f'Gerätezählung am {period} in Raum639')\n",
    "    plt.xlabel('Zeitstempel')\n",
    "    plt.ylabel('Gerätezählung')\n",
    "    plt.grid(True)\n",
    "    plt.xticks(rotation=45)\n",
    "    plt.tight_layout()\n",
    "\n",
    "    # Plot speichern\n",
    "    plot_file_path = os.path.join(output_dir, f'geraetezaehlung_{period}.png')\n",
    "    plt.savefig(plot_file_path)\n",
    "    plt.close()\n",
    "\n",
    "print(f\"Plots wurden im Verzeichnis '{output_dir}' gespeichert.\")\n"
   ]
  },
  {
   "cell_type": "code",
   "execution_count": null,
   "id": "3a029d65-a3e1-41f9-9666-ce1cb963fb47",
   "metadata": {},
   "outputs": [],
   "source": []
  }
 ],
 "metadata": {
  "kernelspec": {
   "display_name": "Python 3 (ipykernel)",
   "language": "python",
   "name": "python3"
  },
  "language_info": {
   "codemirror_mode": {
    "name": "ipython",
    "version": 3
   },
   "file_extension": ".py",
   "mimetype": "text/x-python",
   "name": "python",
   "nbconvert_exporter": "python",
   "pygments_lexer": "ipython3",
   "version": "3.12.3"
  }
 },
 "nbformat": 4,
 "nbformat_minor": 5
}
