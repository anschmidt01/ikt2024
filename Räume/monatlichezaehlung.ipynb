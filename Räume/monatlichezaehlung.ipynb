{
 "cells": [
  {
   "cell_type": "code",
   "execution_count": 1,
   "id": "541e6aab-dbf4-48a1-964a-66ae95c450cf",
   "metadata": {},
   "outputs": [
    {
     "name": "stderr",
     "output_type": "stream",
     "text": [
      "C:\\Users\\Toni\\AppData\\Local\\Temp\\ipykernel_33264\\1791988526.py:29: UserWarning: Converting to PeriodArray/Index representation will drop timezone information.\n",
      "  data['YearMonth'] = data['Timestamp'].dt.to_period('M')\n"
     ]
    },
    {
     "name": "stdout",
     "output_type": "stream",
     "text": [
      "Plots wurden im Verzeichnis 'monatliche_plots' gespeichert.\n"
     ]
    }
   ],
   "source": [
    "# monatlichezaehlung.ipynb\n",
    "import pandas as pd\n",
    "import matplotlib.pyplot as plt\n",
    "import os\n",
    "from data_analysis import load_data, create_monthly_plots\n",
    "\n",
    "# Pfad zur CSV-Datei\n",
    "file_path = '2024-05-18_Export_01_DRA.csv'  # Ersetze dies durch den tatsächlichen Pfad zur Datei\n",
    "\n",
    "# CSV-Datei laden\n",
    "data = load_data(file_path)\n",
    "\n",
    "# Räume, die analysiert werden sollen\n",
    "rooms = ['Raum625', 'Raum639', 'Raum640']\n",
    "\n",
    "for room in rooms:\n",
    "    room_data = data[data['Room'] == room]\n",
    "    output_dir = f'monatliche_plots_{room}'\n",
    "    create_monthly_plots(room_data, output_dir, room)\n"
   ]
  },
  {
   "cell_type": "code",
   "execution_count": null,
   "id": "22cd26e5-bb40-4d49-af01-77f398cb172c",
   "metadata": {},
   "outputs": [],
   "source": []
  }
 ],
 "metadata": {
  "kernelspec": {
   "display_name": "Python 3 (ipykernel)",
   "language": "python",
   "name": "python3"
  },
  "language_info": {
   "codemirror_mode": {
    "name": "ipython",
    "version": 3
   },
   "file_extension": ".py",
   "mimetype": "text/x-python",
   "name": "python",
   "nbconvert_exporter": "python",
   "pygments_lexer": "ipython3",
   "version": "3.12.3"
  }
 },
 "nbformat": 4,
 "nbformat_minor": 5
}
