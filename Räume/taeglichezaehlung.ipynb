{
 "cells": [
  {
   "cell_type": "code",
   "execution_count": 1,
   "id": "169b40cf-3955-48a3-a7a0-4537c90effd3",
   "metadata": {},
   "outputs": [
    {
     "name": "stdout",
     "output_type": "stream",
     "text": [
      "Plots wurden im Verzeichnis 'taegliche_plots_639' gespeichert.\n",
      "Plots wurden im Verzeichnis 'taegliche_plots_625' gespeichert.\n",
      "Plots wurden im Verzeichnis 'taegliche_plots_640' gespeichert.\n"
     ]
    },
    {
     "name": "stderr",
     "output_type": "stream",
     "text": [
      "/var/folders/vf/lhf4f4rn2pj2snst305m322w0000gn/T/ipykernel_3585/963695969.py:48: DtypeWarning: Columns (0,1,2,6) have mixed types. Specify dtype option on import or set low_memory=False.\n",
      "  data = pd.read_csv(file_path)\n"
     ]
    }
   ],
   "source": [
    "# taeglichezaehlung.ipynb\n",
    "import pandas as pd\n",
    "import matplotlib.pyplot as plt\n",
    "import os\n",
    "from data_analysis import load_data, create_daily_plots\n",
    "\n",
    "# Pfad zur CSV-Datei\n",
    "file_path = '2024-05-18_Export_01_DRA.csv'  # Ersetze dies durch den tatsächlichen Pfad zur Datei\n",
    "\n",
    "# CSV-Datei laden\n",
    "data = load_data(file_path)\n",
    "\n",
    "# Räume, die analysiert werden sollen\n",
    "rooms = ['625', '639', '640']\n",
    "\n",
    "for room in rooms:\n",
    "    room_data = data[data['Room'] == room]\n",
    "    output_dir = f'taegliche_plots_{room}'\n",
    "    create_daily_plots(room_data, output_dir, room)\n"
   ]
  },
  {
   "cell_type": "code",
   "execution_count": 1,
   "id": "3a029d65-a3e1-41f9-9666-ce1cb963fb47",
   "metadata": {},
   "outputs": [],
   "source": []
  }
 ],
 "metadata": {
  "kernelspec": {
   "display_name": "Python 3 (ipykernel)",
   "language": "python",
   "name": "python3"
  },
  "language_info": {
   "codemirror_mode": {
    "name": "ipython",
    "version": 3
   },
   "file_extension": ".py",
   "mimetype": "text/x-python",
   "name": "python",
   "nbconvert_exporter": "python",
   "pygments_lexer": "ipython3",
   "version": "3.9.10"
  }
 },
 "nbformat": 4,
 "nbformat_minor": 5
}
